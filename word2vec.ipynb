{
 "cells": [
  {
   "cell_type": "code",
   "execution_count": 15,
   "id": "df280af0",
   "metadata": {},
   "outputs": [
    {
     "name": "stderr",
     "output_type": "stream",
     "text": [
      "[nltk_data] Downloading package punkt to /home/rick/nltk_data...\n",
      "[nltk_data]   Package punkt is already up-to-date!\n",
      "[nltk_data] Downloading package stopwords to /home/rick/nltk_data...\n",
      "[nltk_data]   Package stopwords is already up-to-date!\n"
     ]
    },
    {
     "data": {
      "text/plain": [
       "True"
      ]
     },
     "execution_count": 15,
     "metadata": {},
     "output_type": "execute_result"
    }
   ],
   "source": [
    "from gensim.models import Word2Vec\n",
    "import nltk\n",
    "from nltk.corpus import stopwords\n",
    "import re\n",
    "nltk.download('punkt')\n",
    "nltk.download('stopwords')"
   ]
  },
  {
   "cell_type": "code",
   "execution_count": 16,
   "id": "87b236ed",
   "metadata": {},
   "outputs": [],
   "source": [
    "text = 'John McCarthy and Marvin Minsky defined AI in 1959 as the ability of any program or machine to carry out a task, such that a human would need to apply intelligence to do that same task. This followed a theory by Alan Turing in 1950, that determines whether a machine can be tagged artificially intelligent. The Turing Test, as it is called, says that if it becomes difficult to set a machine apart from a human, from its behavior, then the machine can be called intelligent. That said, AI systems should possess attributes related to speech, reasoning, and vision. Artificial intelligence is changing the world at a very fast pace. AI is now the buzzword of the last decade and this. The biggest companies are funding a lot of research to come up with AI-driven solutions to world problems. AI has penetrated virtually every field of work. In the automotive industry, cars are becoming self-driven. In production and manufacturing, robots are now used to complete tasks in a faster and more efficient manner. Automated image diagnosis as well as virtual nursing assistants has revolutionized the healthcare sector in no small way. It is machine learning that determines the best ads to pop up in your social media feeds, classify emails as spam or ham, suggest an appropriate reply to a message, translate languages in real-time, recommend the videos to watch next on YouTube or the kind of songs you’d most likely love when streaming online.'"
   ]
  },
  {
   "cell_type": "code",
   "execution_count": 27,
   "id": "e1f169a2",
   "metadata": {},
   "outputs": [],
   "source": [
    "text = \"The king ordered his servants to work. The Emperor ordered his servants to work\""
   ]
  },
  {
   "cell_type": "code",
   "execution_count": 28,
   "id": "da376607",
   "metadata": {},
   "outputs": [],
   "source": [
    "#remove extra characters\n",
    "text = re.sub(r\"[[0-9]*\\]\", \" \", text)\n",
    "#remove the extra spaces between words\n",
    "text = re.sub(r\"\\s+\", \" \", text)\n",
    "#convert all letters to lowercase\n",
    "text = text.lower()"
   ]
  },
  {
   "cell_type": "code",
   "execution_count": 29,
   "id": "05d2a4e1",
   "metadata": {},
   "outputs": [],
   "source": [
    "#tokenize the text to list of sentences\n",
    "tokenized_sentence = nltk.sent_tokenize(text)\n",
    "#tokenize the list of sentences to list of words\n",
    "tokenized_words = [nltk.word_tokenize(sentence) for sentence in tokenized_sentence]\n",
    "#define the english stopwords\n",
    "stop_words = stopwords.words('english')\n",
    "#remove the stop words from the text\n",
    "for i, _ in enumerate(tokenized_words):\n",
    "    tokenized_words[i] = [word for word in tokenized_words[i] if word not in stop_words]"
   ]
  },
  {
   "cell_type": "code",
   "execution_count": 30,
   "id": "a2b20e48",
   "metadata": {},
   "outputs": [
    {
     "name": "stdout",
     "output_type": "stream",
     "text": [
      "[['king', 'ordered', 'servants', 'work', '.'], ['emperor', 'ordered', 'servants', 'work']]\n"
     ]
    }
   ],
   "source": [
    "print(tokenized_words)"
   ]
  },
  {
   "cell_type": "code",
   "execution_count": 31,
   "id": "60323011",
   "metadata": {},
   "outputs": [],
   "source": [
    "#invoke the Word2Vec with the tokenized words as argument    \n",
    "model = Word2Vec(tokenized_words, min_count=1)"
   ]
  },
  {
   "cell_type": "code",
   "execution_count": 32,
   "id": "501481f2",
   "metadata": {},
   "outputs": [
    {
     "name": "stdout",
     "output_type": "stream",
     "text": [
      "['work', 'servants', 'ordered', 'emperor', '.', 'king']\n"
     ]
    }
   ],
   "source": [
    "#return the list of words learned\n",
    "learned_words = list(model.wv.key_to_index)\n",
    "#print the learned words\n",
    "print(learned_words)"
   ]
  },
  {
   "cell_type": "code",
   "execution_count": 33,
   "id": "3cffcbae",
   "metadata": {},
   "outputs": [
    {
     "data": {
      "text/plain": [
       "array([-8.2426788e-03,  9.2993546e-03, -1.9766092e-04, -1.9672776e-03,\n",
       "        4.6036290e-03, -4.0953159e-03,  2.7431131e-03,  6.9399667e-03,\n",
       "        6.0654259e-03, -7.5107957e-03,  9.3823504e-03,  4.6718074e-03,\n",
       "        3.9661191e-03, -6.2435055e-03,  8.4599778e-03, -2.1501661e-03,\n",
       "        8.8251876e-03, -5.3620026e-03, -8.1294207e-03,  6.8245577e-03,\n",
       "        1.6711927e-03, -2.1985101e-03,  9.5135998e-03,  9.4938539e-03,\n",
       "       -9.7740479e-03,  2.5052286e-03,  6.1566923e-03,  3.8724565e-03,\n",
       "        2.0227861e-03,  4.3050051e-04,  6.7363022e-04, -3.8206363e-03,\n",
       "       -7.1402504e-03, -2.0888734e-03,  3.9238976e-03,  8.8186832e-03,\n",
       "        9.2591504e-03, -5.9759379e-03, -9.4026709e-03,  9.7643761e-03,\n",
       "        3.4297847e-03,  5.1661157e-03,  6.2823440e-03, -2.8042626e-03,\n",
       "        7.3227026e-03,  2.8302716e-03,  2.8710032e-03, -2.3803711e-03,\n",
       "       -3.1282497e-03, -2.3701428e-03,  4.2764354e-03,  7.6057913e-05,\n",
       "       -9.5842788e-03, -9.6655441e-03, -6.1481954e-03, -1.2856961e-04,\n",
       "        1.9974159e-03,  9.4319675e-03,  5.5843499e-03, -4.2906976e-03,\n",
       "        2.7831554e-04,  4.9643586e-03,  7.6983096e-03, -1.1442233e-03,\n",
       "        4.3234206e-03, -5.8143805e-03, -8.0419064e-04,  8.1000496e-03,\n",
       "       -2.3600650e-03, -9.6634552e-03,  5.7792594e-03, -3.9298222e-03,\n",
       "       -1.2228728e-03,  9.9805165e-03, -2.2563506e-03, -4.7570658e-03,\n",
       "       -5.3293873e-03,  6.9808890e-03, -5.7088733e-03,  2.1136617e-03,\n",
       "       -5.2556610e-03,  6.1207130e-03,  4.3573068e-03,  2.6063537e-03,\n",
       "       -1.4910841e-03, -2.7460647e-03,  8.9929365e-03,  5.2157734e-03,\n",
       "       -2.1625208e-03, -9.4703101e-03, -7.4260519e-03, -1.0637427e-03,\n",
       "       -7.9494715e-04, -2.5629092e-03,  9.6827196e-03, -4.5852186e-04,\n",
       "        5.8737611e-03, -7.4475883e-03, -2.5060750e-03, -5.5498648e-03],\n",
       "      dtype=float32)"
      ]
     },
     "execution_count": 33,
     "metadata": {},
     "output_type": "execute_result"
    }
   ],
   "source": [
    "#check the vector representation for the word ‘AI’\n",
    "model.wv['emperor']"
   ]
  },
  {
   "cell_type": "code",
   "execution_count": 37,
   "id": "138f12bc",
   "metadata": {},
   "outputs": [
    {
     "data": {
      "text/plain": [
       "[('.', 0.13887986540794373),\n",
       " ('emperor', 0.13149003684520721),\n",
       " ('ordered', 0.0640898048877716),\n",
       " ('servants', 0.009391195140779018),\n",
       " ('work', -0.059876274317502975)]"
      ]
     },
     "execution_count": 37,
     "metadata": {},
     "output_type": "execute_result"
    }
   ],
   "source": [
    "model.wv.most_similar('king')"
   ]
  },
  {
   "cell_type": "code",
   "execution_count": null,
   "id": "b4e4371b",
   "metadata": {},
   "outputs": [],
   "source": []
  }
 ],
 "metadata": {
  "kernelspec": {
   "display_name": "Python 3 (ipykernel)",
   "language": "python",
   "name": "python3"
  },
  "language_info": {
   "codemirror_mode": {
    "name": "ipython",
    "version": 3
   },
   "file_extension": ".py",
   "mimetype": "text/x-python",
   "name": "python",
   "nbconvert_exporter": "python",
   "pygments_lexer": "ipython3",
   "version": "3.8.10"
  }
 },
 "nbformat": 4,
 "nbformat_minor": 5
}
