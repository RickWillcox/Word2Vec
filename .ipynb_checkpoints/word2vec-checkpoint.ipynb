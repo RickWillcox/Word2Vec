{
 "cells": [
  {
   "cell_type": "code",
   "execution_count": 1,
   "id": "19f39dce",
   "metadata": {},
   "outputs": [
    {
     "name": "stderr",
     "output_type": "stream",
     "text": [
      "[nltk_data] Downloading package punkt to /home/rick/nltk_data...\n",
      "[nltk_data]   Package punkt is already up-to-date!\n",
      "[nltk_data] Downloading package stopwords to /home/rick/nltk_data...\n",
      "[nltk_data]   Package stopwords is already up-to-date!\n"
     ]
    },
    {
     "data": {
      "text/plain": [
       "True"
      ]
     },
     "execution_count": 1,
     "metadata": {},
     "output_type": "execute_result"
    }
   ],
   "source": [
    "from gensim.models import Word2Vec\n",
    "import nltk\n",
    "from nltk.corpus import stopwords\n",
    "import re\n",
    "nltk.download('punkt')\n",
    "nltk.download('stopwords')"
   ]
  },
  {
   "cell_type": "code",
   "execution_count": 2,
   "id": "c1743c65",
   "metadata": {},
   "outputs": [],
   "source": [
    "text = 'John McCarthy and Marvin Minsky defined AI in 1959 as the ability of any program or machine to carry out a task, such that a human would need to apply intelligence to do that same task. This followed a theory by Alan Turing in 1950, that determines whether a machine can be tagged artificially intelligent. The Turing Test, as it is called, says that if it becomes difficult to set a machine apart from a human, from its behavior, then the machine can be called intelligent. That said, AI systems should possess attributes related to speech, reasoning, and vision. Artificial intelligence is changing the world at a very fast pace. AI is now the buzzword of the last decade and this. The biggest companies are funding a lot of research to come up with AI-driven solutions to world problems. AI has penetrated virtually every field of work. In the automotive industry, cars are becoming self-driven. In production and manufacturing, robots are now used to complete tasks in a faster and more efficient manner. Automated image diagnosis as well as virtual nursing assistants has revolutionized the healthcare sector in no small way. It is machine learning that determines the best ads to pop up in your social media feeds, classify emails as spam or ham, suggest an appropriate reply to a message, translate languages in real-time, recommend the videos to watch next on YouTube or the kind of songs you’d most likely love when streaming online.'"
   ]
  },
  {
   "cell_type": "code",
   "execution_count": null,
   "id": "380004a9",
   "metadata": {},
   "outputs": [],
   "source": [
    "text2 = \"The king ordered his servants to work. The Emperor orders his peasants to work\""
   ]
  },
  {
   "cell_type": "code",
   "execution_count": 3,
   "id": "c89b57c9",
   "metadata": {},
   "outputs": [
    {
     "name": "stderr",
     "output_type": "stream",
     "text": [
      "/tmp/ipykernel_20757/662960447.py:2: FutureWarning: Possible nested set at position 1\n",
      "  text = re.sub(r\"[[0-9]*\\]\", \" \", text)\n"
     ]
    }
   ],
   "source": [
    "#remove extra characters\n",
    "text = re.sub(r\"[[0-9]*\\]\", \" \", text)\n",
    "#remove the extra spaces between words\n",
    "text = re.sub(r\"\\s+\", \" \", text)\n",
    "#convert all letters to lowercase\n",
    "text = text.lower()"
   ]
  },
  {
   "cell_type": "code",
   "execution_count": 6,
   "id": "cd7fc0d8",
   "metadata": {},
   "outputs": [],
   "source": [
    "#tokenize the text to list of sentences\n",
    "tokenized_sentence = nltk.sent_tokenize(text)\n",
    "#tokenize the list of sentences to list of words\n",
    "tokenized_words = [nltk.word_tokenize(sentence) for sentence in tokenized_sentence]\n",
    "#define the english stopwords\n",
    "stop_words = stopwords.words('english')\n",
    "#remove the stop words from the text\n",
    "for i, _ in enumerate(tokenized_words):\n",
    "    tokenized_words[i] = [word for word in tokenized_words[i] if word not in stop_words]"
   ]
  },
  {
   "cell_type": "code",
   "execution_count": 7,
   "id": "9187d7a1",
   "metadata": {},
   "outputs": [
    {
     "name": "stdout",
     "output_type": "stream",
     "text": [
      "[['john', 'mccarthy', 'marvin', 'minsky', 'defined', 'ai', '1959', 'ability', 'program', 'machine', 'carry', 'task', ',', 'human', 'would', 'need', 'apply', 'intelligence', 'task', '.'], ['followed', 'theory', 'alan', 'turing', '1950', ',', 'determines', 'whether', 'machine', 'tagged', 'artificially', 'intelligent', '.'], ['turing', 'test', ',', 'called', ',', 'says', 'becomes', 'difficult', 'set', 'machine', 'apart', 'human', ',', 'behavior', ',', 'machine', 'called', 'intelligent', '.'], ['said', ',', 'ai', 'systems', 'possess', 'attributes', 'related', 'speech', ',', 'reasoning', ',', 'vision', '.'], ['artificial', 'intelligence', 'changing', 'world', 'fast', 'pace', '.'], ['ai', 'buzzword', 'last', 'decade', '.'], ['biggest', 'companies', 'funding', 'lot', 'research', 'come', 'ai-driven', 'solutions', 'world', 'problems', '.'], ['ai', 'penetrated', 'virtually', 'every', 'field', 'work', '.'], ['automotive', 'industry', ',', 'cars', 'becoming', 'self-driven', '.'], ['production', 'manufacturing', ',', 'robots', 'used', 'complete', 'tasks', 'faster', 'efficient', 'manner', '.'], ['automated', 'image', 'diagnosis', 'well', 'virtual', 'nursing', 'assistants', 'revolutionized', 'healthcare', 'sector', 'small', 'way', '.'], ['machine', 'learning', 'determines', 'best', 'ads', 'pop', 'social', 'media', 'feeds', ',', 'classify', 'emails', 'spam', 'ham', ',', 'suggest', 'appropriate', 'reply', 'message', ',', 'translate', 'languages', 'real-time', ',', 'recommend', 'videos', 'watch', 'next', 'youtube', 'kind', 'songs', '’', 'likely', 'love', 'streaming', 'online', '.']]\n"
     ]
    }
   ],
   "source": [
    "print(tokenized_words)"
   ]
  },
  {
   "cell_type": "code",
   "execution_count": 8,
   "id": "ad362f6d",
   "metadata": {},
   "outputs": [],
   "source": [
    "#invoke the Word2Vec with the tokenized words as argument    \n",
    "model = Word2Vec(tokenized_words, min_count=1)"
   ]
  },
  {
   "cell_type": "code",
   "execution_count": 10,
   "id": "3b8174a6",
   "metadata": {},
   "outputs": [
    {
     "name": "stdout",
     "output_type": "stream",
     "text": [
      "[',', '.', 'machine', 'ai', 'task', 'turing', 'determines', 'human', 'intelligence', 'intelligent', 'called', 'world', 'related', 'artificial', 'speech', 'attributes', 'reasoning', 'possess', 'vision', 'systems', 'said', 'online', 'changing', 'apart', 'fast', 'pace', 'buzzword', 'last', 'decade', 'biggest', 'companies', 'funding', 'lot', 'research', 'come', 'behavior', 'test', 'set', 'difficult', 'mccarthy', 'marvin', 'minsky', 'defined', '1959', 'ability', 'program', 'carry', 'would', 'need', 'apply', 'followed', 'theory', 'alan', '1950', 'whether', 'tagged', 'artificially', 'solutions', 'says', 'becomes', 'ai-driven', 'problems', 'streaming', 'way', 'best', 'ads', 'pop', 'social', 'media', 'feeds', 'classify', 'emails', 'spam', 'ham', 'suggest', 'appropriate', 'reply', 'message', 'translate', 'languages', 'real-time', 'recommend', 'videos', 'watch', 'next', 'youtube', 'kind', 'songs', '’', 'likely', 'love', 'learning', 'small', 'penetrated', 'sector', 'virtually', 'every', 'field', 'work', 'automotive', 'industry', 'cars', 'becoming', 'self-driven', 'production', 'manufacturing', 'robots', 'used', 'complete', 'tasks', 'faster', 'efficient', 'manner', 'automated', 'image', 'diagnosis', 'well', 'virtual', 'nursing', 'assistants', 'revolutionized', 'healthcare', 'john']\n"
     ]
    }
   ],
   "source": [
    "#return the list of words learned\n",
    "learned_words = list(model.wv.key_to_index)\n",
    "#print the learned words\n",
    "print(learned_words)"
   ]
  },
  {
   "cell_type": "code",
   "execution_count": 12,
   "id": "0bb6c29b",
   "metadata": {},
   "outputs": [
    {
     "data": {
      "text/plain": [
       "array([-0.00563749,  0.00381599,  0.00126071, -0.00850058, -0.00505749,\n",
       "        0.00026782, -0.0077365 ,  0.00111066,  0.00869375,  0.00668388,\n",
       "       -0.00504848,  0.00097291, -0.00101591,  0.00927301,  0.00787975,\n",
       "        0.00884092, -0.0022715 ,  0.00337308, -0.00075056,  0.00469167,\n",
       "        0.00399061,  0.00523247, -0.00341324,  0.0097173 ,  0.00620749,\n",
       "        0.00159693, -0.00556334, -0.00667102,  0.00254358, -0.0017372 ,\n",
       "        0.00316559,  0.00169953, -0.00791925, -0.0040836 ,  0.00779774,\n",
       "       -0.00560603,  0.00037038,  0.00457021,  0.00513174,  0.00857192,\n",
       "       -0.00049662,  0.00238542,  0.00203024, -0.0022849 , -0.00063521,\n",
       "        0.00946515, -0.00234612,  0.00415531, -0.00677819,  0.00954568,\n",
       "        0.00029885,  0.00881346,  0.0017995 , -0.0007639 ,  0.00717103,\n",
       "        0.00176979,  0.00031496, -0.00203272,  0.00295316,  0.0003051 ,\n",
       "        0.0091024 ,  0.00236042, -0.00873431, -0.00406557, -0.00189863,\n",
       "       -0.00145537,  0.00800007,  0.00658677,  0.00881032,  0.00455807,\n",
       "        0.00796258, -0.00687458, -0.00090842, -0.00757166, -0.00452999,\n",
       "        0.00661449, -0.00414823, -0.00301766,  0.0024128 ,  0.00857245,\n",
       "       -0.00950532, -0.0037122 ,  0.00387474, -0.00781188,  0.00329268,\n",
       "        0.0079562 ,  0.00437087, -0.00169171,  0.00935738,  0.00243108,\n",
       "       -0.00957741, -0.00358393, -0.00560643,  0.00245132, -0.00324426,\n",
       "        0.00454153,  0.00472197,  0.00955074, -0.00976261, -0.00892915],\n",
       "      dtype=float32)"
      ]
     },
     "execution_count": 12,
     "metadata": {},
     "output_type": "execute_result"
    }
   ],
   "source": [
    "#check the vector representation for the word ‘AI’\n",
    "model.wv['john']"
   ]
  },
  {
   "cell_type": "code",
   "execution_count": 13,
   "id": "6caabd6e",
   "metadata": {},
   "outputs": [
    {
     "data": {
      "text/plain": [
       "[('emails', 0.203593447804451),\n",
       " ('virtual', 0.18126557767391205),\n",
       " ('speech', 0.17842158675193787),\n",
       " ('test', 0.16358283162117004),\n",
       " ('spam', 0.16154836118221283),\n",
       " ('used', 0.15806573629379272),\n",
       " ('manufacturing', 0.1515294760465622),\n",
       " ('program', 0.14903207123279572),\n",
       " ('ham', 0.1365097016096115),\n",
       " ('artificially', 0.13487957417964935)]"
      ]
     },
     "execution_count": 13,
     "metadata": {},
     "output_type": "execute_result"
    }
   ],
   "source": [
    "model.wv.most_similar('ai')"
   ]
  },
  {
   "cell_type": "code",
   "execution_count": null,
   "id": "c0862ac4",
   "metadata": {},
   "outputs": [],
   "source": []
  }
 ],
 "metadata": {
  "kernelspec": {
   "display_name": "Python 3 (ipykernel)",
   "language": "python",
   "name": "python3"
  },
  "language_info": {
   "codemirror_mode": {
    "name": "ipython",
    "version": 3
   },
   "file_extension": ".py",
   "mimetype": "text/x-python",
   "name": "python",
   "nbconvert_exporter": "python",
   "pygments_lexer": "ipython3",
   "version": "3.8.10"
  }
 },
 "nbformat": 4,
 "nbformat_minor": 5
}
